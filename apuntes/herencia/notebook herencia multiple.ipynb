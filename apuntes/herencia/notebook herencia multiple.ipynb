{
  "nbformat": 4,
  "nbformat_minor": 0,
  "metadata": {
    "colab": {
      "provenance": []
    },
    "kernelspec": {
      "name": "python3",
      "display_name": "Python 3"
    },
    "language_info": {
      "name": "python"
    }
  },
  "cells": [
    {
      "cell_type": "markdown",
      "source": [
        "### Herencia múltiple\n",
        "La idea de la herencia múltiple es poder heredar de más de una clase. Es una lógica más intuitiva con respecto al mundo real.\n",
        "El concepto cambia ya que debemos pensar al objeto como una combinación de varias clases que no se superponen. Por ejemplo un Maratonista es en parte Deportista, Padre, Hombre, etc...\n",
        "\"un A puede ser visto como un B\"  "
      ],
      "metadata": {
        "id": "g6bcqZdWiV1T"
      }
    },
    {
      "cell_type": "code",
      "execution_count": null,
      "metadata": {
        "id": "R1oG9Y8_VsPu"
      },
      "outputs": [],
      "source": [
        "class Padre():\n",
        "  def __init__(self):\n",
        "    print(\"hola desde clase padre\")\n",
        "\n",
        "class Madre():\n",
        "  def __init__(self):\n",
        "    print(\"hola desde la clase madre\")\n",
        "\n",
        "class Hijo(Padre,Madre):\n",
        "  def __init__(self):\n",
        "    super().__init__()\n",
        "    print(\"Hola desde la clase hijo\")\n",
        "\n",
        "hijo = Hijo()"
      ]
    },
    {
      "cell_type": "markdown",
      "source": [
        "### Problema del diamante\n",
        "Se llama así porque si hiciéramos un diagrama UML dibujaria un diamante. El problema es identificar cómo es el orden de llamadas cuando tenemos una superclase de las cuales heredan dos clases y a su vez estas son padre de otra clase más."
      ],
      "metadata": {
        "id": "CuH7eiRPingN"
      }
    },
    {
      "cell_type": "code",
      "source": [
        "class SuperSuperClase:\n",
        "    super_super_llamadas = 0\n",
        "    def mensaje(self):\n",
        "      self.super_super_llamadas += 1\n",
        "      print(\"llamada a metodo desde SuperSuperClase\")\n",
        "\n",
        "class Superclase1(SuperSuperClase):\n",
        "  super1_llamadas = 0\n",
        "  def mensaje(self):\n",
        "    SuperSuperClase.mensaje(self)\n",
        "    self.super1_llamadas += 1\n",
        "    print(\"llamada a metodo desde SuperClase1\")\n",
        "\n",
        "class Superclase2(SuperSuperClase):\n",
        "  super2_llamadas = 0\n",
        "  def mensaje(self):\n",
        "    SuperSuperClase.mensaje(self)\n",
        "    self.super2_llamadas += 1\n",
        "    print(\"llamada a metodo desde SuperClase2\")\n",
        "\n",
        "class Sublaclase(Superclase1,Superclase2):\n",
        "  llamadas = 0\n",
        "  def mensaje(self):\n",
        "    Superclase1.mensaje(self)\n",
        "    Superclase2.mensaje(self)\n",
        "    print(\"llamada a metodo desde Sublase\")\n",
        "    self.llamadas += 1\n",
        "\n",
        "mi_clase = Sublaclase()\n",
        "mi_clase.mensaje()\n",
        "print(mi_clase.llamadas,mi_clase.super1_llamadas,mi_clase.super2_llamadas, mi_clase.super_super_llamadas)"
      ],
      "metadata": {
        "id": "wzwTiFpliqlY"
      },
      "execution_count": null,
      "outputs": []
    },
    {
      "cell_type": "markdown",
      "source": [
        "### Method Resolution Order (MRO)\n",
        "Python usa el algoritmo C3 de linearización para determinar el MRO. Define la secuencia en las cuales las clases base son buscadas cuando se busca un método o atributo de un objeto. Importante para evitar ambigüedades y conflictos."
      ],
      "metadata": {
        "id": "OThARyPlizf-"
      }
    },
    {
      "cell_type": "code",
      "source": [
        "class A:\n",
        "    def saludo(self):\n",
        "        print(\"Hola desde A\")\n",
        "\n",
        "class B(A):\n",
        "    def saludo(self):\n",
        "        print(\"Hola desde B\")\n",
        "\n",
        "class C(A):\n",
        "    def saludo(self):\n",
        "        print(\"Hola desde C\")\n",
        "\n",
        "class D(B, C):\n",
        "    pass\n",
        "\n",
        "obj = D()\n",
        "obj.saludo()"
      ],
      "metadata": {
        "id": "6LJ008XSi5B_",
        "colab": {
          "base_uri": "https://localhost:8080/"
        },
        "outputId": "9d1011f0-5085-4023-f982-d317206e6572"
      },
      "execution_count": 18,
      "outputs": [
        {
          "output_type": "stream",
          "name": "stdout",
          "text": [
            "Hola desde B\n"
          ]
        }
      ]
    },
    {
      "cell_type": "markdown",
      "source": [
        "El MRO de la clase D, al utilizar el algoritmo de linearizaciòn C3 nos da el orden D->B->C->A."
      ],
      "metadata": {
        "id": "CKf5GbYAv_Cx"
      }
    },
    {
      "cell_type": "markdown",
      "source": [
        "### Mixin\n",
        "\n",
        "Es una clase que proporciona métodos destinados a ser utilizados como una extensión opcional para otras clases. No están destinados a ser instanciados por sí solos, sino a ser heredados junto con otras clases para proporcionar comportamientos específicos.\n",
        "*   Son útiles para reutilizar funcionalidades en diferentes clases sin que las herencias se vuelvan demasiado complejas.\n",
        "*   Permiten mantener su código modular y DRY (Don't Repeat Yourself) al encapsular comportamientos comunes en clases separadas."
      ],
      "metadata": {
        "id": "GlAvp67SilX1"
      }
    },
    {
      "cell_type": "code",
      "source": [
        "class Log:\n",
        "\n",
        "  def __init__(self, log_nombre_archivo):\n",
        "        self.log_nombre_archivo = log_nombre_archivo\n",
        "\n",
        "  def guardar_en_log(self, mensaje):\n",
        "    with open(self.log_nombre_archivo, \"a\") as log_archivo:\n",
        "            log_archivo.write(f\"[LOG] {self.__class__.__name__}: {mensaje}\\n\")\n",
        "    print(f\"LOG: {self.__class__.__name__} : {mensaje}\")\n",
        "\n",
        "class Database(Log):\n",
        "  def procesar_consulta(self, consulta):\n",
        "    self.guardar_en_log(\"procesa consulta: \"+consulta)\n",
        "    print(\"aca se trabaja la consulta\")\n",
        "\n",
        "class Servidor(Log):\n",
        "  def enviar_peticion(self, peticion):\n",
        "    self.guardar_en_log(\"envia petición: \"+peticion)\n",
        "    print(\"aca se hace la peticion al servidor\")\n",
        "\n",
        "bd = Database(\"database_log.txt\")\n",
        "server = Servidor(\"servidor_log.txt\")\n",
        "\n",
        "bd.procesar_consulta(\"select * from mi_tabla\")\n",
        "server.enviar_peticion(\"https://www.google.com/search?q=python\")"
      ],
      "metadata": {
        "id": "lkxWdz69exrM"
      },
      "execution_count": null,
      "outputs": []
    },
    {
      "cell_type": "markdown",
      "source": [
        "## Ejercicio\n",
        "Modifique el siguiente programa para que la responsabilidad de mostrar la descripción sea accedida bajo un mismo protocolo en las 3 clases (mismo nombre de método). Modifique también el programa para que el cálculo de costo de la obra de arte reutilice algo del código de la técnica y el estilo, por ejemplo que estas apliquen un valor porcentual sobre un precio base de la obra de arte."
      ],
      "metadata": {
        "id": "YdVT3CyhZkRb"
      }
    },
    {
      "cell_type": "code",
      "source": [
        "class TecnicaArtistica:\n",
        "    def __init__(self, tecnica):\n",
        "        self.tecnica = tecnica\n",
        "\n",
        "    def descripcion_tecnica(self):\n",
        "        return f\"tecnica: {self.tecnica}\"\n",
        "\n",
        "class EstiloArtistico:\n",
        "    def __init__(self, estilo):\n",
        "        self.estilo = estilo\n",
        "\n",
        "    def descripcion_estilo(self):\n",
        "        return f\"Estilo: {self.estilo}\"\n",
        "\n",
        "class ObraDeArte(TecnicaArtistica, EstiloArtistico):\n",
        "    def __init__(self, tecnica, estilo, titulo, precio_base):\n",
        "        TecnicaArtistica.__init__(self, tecnica)\n",
        "        EstiloArtistico.__init__(self, estilo)\n",
        "        self.titulo = titulo\n",
        "        self.precio_base = precio_base\n",
        "\n",
        "    def mostrar_info(self):\n",
        "        print(f\"Titulo: {self.titulo}\")\n",
        "        print(self.descripcion_estilo())\n",
        "        print(self.descripcion_tecnica())\n",
        "        print(f\"Precio base: ${self.precio_base:.2f}\")\n",
        "\n",
        "    def calcular_costo(self):\n",
        "        costo_tecnica = 50\n",
        "        costo_estilo = 100\n",
        "        return self.precio_base + costo_tecnica + costo_estilo\n",
        "\n",
        "\n",
        "obra = ObraDeArte(tecnica=\"Pintura al óleo\", estilo=\"Impresionismo\", titulo=\"Impression, soleil levant\", precio_base=500)\n",
        "obra.mostrar_info()\n",
        "print(f\"Costo calculado: ${obra.calcular_costo():.2f}\")\n",
        "obra2 = ObraDeArte(tecnica=\"Escultura\", estilo=\"Renacimiento\", titulo=\"David\", precio_base=1500)\n",
        "obra2.mostrar_info()\n",
        "print(f\"Costo calculado: ${obra2.calcular_costo():.2f}\")\n"
      ],
      "metadata": {
        "id": "oJ6zisjcZiTC",
        "colab": {
          "base_uri": "https://localhost:8080/"
        },
        "outputId": "cd45ac0b-baad-4ff9-a840-d7a39c39aa5c"
      },
      "execution_count": 26,
      "outputs": [
        {
          "output_type": "stream",
          "name": "stdout",
          "text": [
            "Titulo: Impression, soleil levant\n",
            "Estilo: Impresionismo\n",
            "tecnica: Pintura al óleo\n",
            "Precio base: $500.00\n",
            "Costo calculado: $650.00\n",
            "Titulo: David\n",
            "Estilo: Renacimiento\n",
            "tecnica: Escultura\n",
            "Precio base: $1500.00\n",
            "Costo calculado: $1650.00\n"
          ]
        }
      ]
    },
    {
      "cell_type": "code",
      "source": [],
      "metadata": {
        "id": "kA06KDK95-xp"
      },
      "execution_count": null,
      "outputs": []
    }
  ]
}