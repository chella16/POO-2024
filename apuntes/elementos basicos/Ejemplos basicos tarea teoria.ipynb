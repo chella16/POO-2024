{
  "cells": [
    {
      "cell_type": "markdown",
      "metadata": {
        "id": "33bx8qoQL7fI"
      },
      "source": [
        "# Práctica básica de python"
      ]
    },
    {
      "cell_type": "markdown",
      "metadata": {
        "id": "qd3mN4IRMElU"
      },
      "source": [
        "1.   Ingrese dos valores por consola y devuelva el producto de ambos si el resultado es menor a 1000, sino devolver su suma.\n",
        "\n"
      ]
    },
    {
      "cell_type": "code",
      "execution_count": null,
      "metadata": {
        "colab": {
          "base_uri": "https://localhost:8080/"
        },
        "id": "4ACOSw_oLDWi",
        "outputId": "51f25a0d-47a0-42fc-c223-1a3ea28aaa51"
      },
      "outputs": [],
      "source": []
    },
    {
      "cell_type": "markdown",
      "metadata": {
        "id": "7CFhHxl2NSOL"
      },
      "source": [
        "2.   Itere sobre los primeros 10 números y en cada iteración imprima la suma del numero actual y el anterior."
      ]
    },
    {
      "cell_type": "code",
      "execution_count": null,
      "metadata": {
        "colab": {
          "base_uri": "https://localhost:8080/"
        },
        "id": "ITktRattLoYV",
        "outputId": "b237a68b-8884-442f-85ed-fe20ab3b6d98"
      },
      "outputs": [],
      "source": []
    },
    {
      "cell_type": "markdown",
      "metadata": {
        "id": "wXqPytg4NeLq"
      },
      "source": [
        "3.   Dada una cadena ingresada por consola, imprima los caracteres en posiciones pares. Por ejemplo para la cadena \"hola\" debería imprimir h l"
      ]
    },
    {
      "cell_type": "code",
      "execution_count": null,
      "metadata": {
        "colab": {
          "base_uri": "https://localhost:8080/"
        },
        "id": "mpeNgbisM5r8",
        "outputId": "0d0de821-47fe-4e04-e64f-8cea5447fe69"
      },
      "outputs": [],
      "source": []
    },
    {
      "cell_type": "markdown",
      "metadata": {
        "id": "FJ7aY8r6OlRv"
      },
      "source": [
        "4.   Escriba una función que remueva los primeros n elementos de un string"
      ]
    },
    {
      "cell_type": "code",
      "execution_count": null,
      "metadata": {
        "colab": {
          "base_uri": "https://localhost:8080/"
        },
        "id": "zS0jvUX5N2D9",
        "outputId": "7e81b272-3871-437b-f7f7-709072584190"
      },
      "outputs": [],
      "source": []
    },
    {
      "cell_type": "markdown",
      "metadata": {
        "id": "CYK-q1NKPunW"
      },
      "source": [
        "5.   Escriba una función que devuelva True si el ultimo numero es igual al primero, y falso si son diferentes."
      ]
    },
    {
      "cell_type": "code",
      "execution_count": null,
      "metadata": {
        "colab": {
          "base_uri": "https://localhost:8080/"
        },
        "id": "h4wGWGu9PA0w",
        "outputId": "55bcdef8-381c-4395-c82d-5986815e39e0"
      },
      "outputs": [],
      "source": []
    },
    {
      "cell_type": "markdown",
      "metadata": {
        "id": "XVQZwTDSRAJP"
      },
      "source": [
        "6. Dada una lista imprima los elementos que sean divisibles por 5"
      ]
    },
    {
      "cell_type": "code",
      "execution_count": null,
      "metadata": {
        "colab": {
          "base_uri": "https://localhost:8080/"
        },
        "id": "scoEf97BQsR_",
        "outputId": "edad29f0-a7ec-4991-f544-3ad8d55fdf56"
      },
      "outputs": [],
      "source": []
    },
    {
      "cell_type": "markdown",
      "metadata": {
        "id": "Sh-l7QCrRp_H"
      },
      "source": [
        "7. Escriba un programa que cuente cuantas substrings existen dentro de un string. Ingrese ambas string por consola."
      ]
    },
    {
      "cell_type": "code",
      "execution_count": null,
      "metadata": {
        "colab": {
          "base_uri": "https://localhost:8080/"
        },
        "id": "Lg9KzsOsRbQZ",
        "outputId": "3e69951f-c691-4c47-e61e-4ea905513bc9"
      },
      "outputs": [],
      "source": []
    },
    {
      "cell_type": "markdown",
      "metadata": {
        "id": "t-2k4ozfZLLU"
      },
      "source": [
        "8. Escriba un programa que determine si un numero es palimdromo/capicua. Ej: 12321 o 707."
      ]
    },
    {
      "cell_type": "code",
      "execution_count": null,
      "metadata": {
        "colab": {
          "base_uri": "https://localhost:8080/"
        },
        "id": "PQdHk57RW-nm",
        "outputId": "eb2bfe0c-2ac2-4031-f493-397edd85b361"
      },
      "outputs": [],
      "source": []
    },
    {
      "cell_type": "markdown",
      "metadata": {
        "id": "I_dstnDInMeX"
      },
      "source": [
        "9. dada dos listas de numeros, crear una tercera con los numeros pares de la primera y los impares de la tercera."
      ]
    },
    {
      "cell_type": "code",
      "execution_count": null,
      "metadata": {
        "colab": {
          "base_uri": "https://localhost:8080/"
        },
        "id": "ESfneGlJYr6r",
        "outputId": "36c09f13-069f-475d-d2a3-68cc2e473321"
      },
      "outputs": [],
      "source": []
    },
    {
      "cell_type": "markdown",
      "metadata": {
        "id": "FJq1yXP6uiI9"
      },
      "source": [
        "10. Utilice la funcion filter() y una funcion lambda para lograr el mismo programa que en 9."
      ]
    },
    {
      "cell_type": "code",
      "execution_count": null,
      "metadata": {
        "colab": {
          "base_uri": "https://localhost:8080/"
        },
        "id": "6MHya_-Ku1MP",
        "outputId": "f5fbf0e0-dab7-4da5-82b9-aadaa5126e60"
      },
      "outputs": [],
      "source": []
    },
    {
      "cell_type": "markdown",
      "metadata": {
        "id": "HLu3zVSHoEHS"
      },
      "source": [
        "11. a partir de los siguientes dict, concatene en uno solo.\n",
        "{1:10, 2:20}\n",
        "{3:30, 4:40}\n",
        "{5:50, 6:60}"
      ]
    },
    {
      "cell_type": "code",
      "execution_count": null,
      "metadata": {
        "colab": {
          "base_uri": "https://localhost:8080/"
        },
        "id": "8Ka7Ya-3nvIf",
        "outputId": "d2fd550e-b1de-486f-9ab0-ca75b8b8ab7a"
      },
      "outputs": [],
      "source": []
    },
    {
      "cell_type": "markdown",
      "metadata": {
        "id": "HOv8EtCytF7D"
      },
      "source": [
        "12. Elimine los elementos vacios de un diccionario, por ejemplo dado {'a':1,'b':2,'c':None} conseguir {'a':1,'b':2}"
      ]
    },
    {
      "cell_type": "code",
      "execution_count": null,
      "metadata": {
        "colab": {
          "base_uri": "https://localhost:8080/"
        },
        "id": "lz9g0pmRsYWg",
        "outputId": "991f8539-0351-4f0f-bf41-2081b96afdeb"
      },
      "outputs": [],
      "source": []
    }
  ],
  "metadata": {
    "colab": {
      "provenance": []
    },
    "kernelspec": {
      "display_name": "Python 3",
      "name": "python3"
    },
    "language_info": {
      "codemirror_mode": {
        "name": "ipython",
        "version": 3
      },
      "file_extension": ".py",
      "mimetype": "text/x-python",
      "name": "python",
      "nbconvert_exporter": "python",
      "pygments_lexer": "ipython3",
      "version": "3.10.12"
    }
  },
  "nbformat": 4,
  "nbformat_minor": 0
}
