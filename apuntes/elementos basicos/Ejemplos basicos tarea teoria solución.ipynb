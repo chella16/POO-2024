{
  "cells": [
    {
      "cell_type": "markdown",
      "metadata": {
        "id": "33bx8qoQL7fI"
      },
      "source": [
        "# Práctica básica de python"
      ]
    },
    {
      "cell_type": "markdown",
      "metadata": {
        "id": "qd3mN4IRMElU"
      },
      "source": [
        "1.   Ingrese dos valores por consola y devuelva el producto de ambos si el resultado es menor a 1000, sino devolver su suma.\n",
        "\n"
      ]
    },
    {
      "cell_type": "code",
      "execution_count": null,
      "metadata": {
        "colab": {
          "base_uri": "https://localhost:8080/"
        },
        "id": "4ACOSw_oLDWi",
        "outputId": "51f25a0d-47a0-42fc-c223-1a3ea28aaa51"
      },
      "outputs": [
        {
          "name": "stdout",
          "output_type": "stream",
          "text": [
            "ingrese valor de x: 123123\n",
            "ingrese valor de y: 32312\n",
            "155435\n"
          ]
        }
      ],
      "source": [
        "x= int(input(\"ingrese valor de x: \"))\n",
        "y= int(input(\"ingrese valor de y: \"))\n",
        "producto = x*y\n",
        "if producto <= 1000:\n",
        "  print(producto)\n",
        "else:\n",
        "  print(x+y)"
      ]
    },
    {
      "cell_type": "markdown",
      "metadata": {
        "id": "7CFhHxl2NSOL"
      },
      "source": [
        "2.   Itere sobre los primeros 10 números y en cada iteración imprima la suma del numero actual y el anterior."
      ]
    },
    {
      "cell_type": "code",
      "execution_count": null,
      "metadata": {
        "colab": {
          "base_uri": "https://localhost:8080/"
        },
        "id": "ITktRattLoYV",
        "outputId": "b237a68b-8884-442f-85ed-fe20ab3b6d98"
      },
      "outputs": [
        {
          "name": "stdout",
          "output_type": "stream",
          "text": [
            "1\n",
            "3\n",
            "5\n",
            "7\n",
            "9\n",
            "11\n",
            "13\n",
            "15\n",
            "17\n"
          ]
        }
      ],
      "source": [
        "for i in range(1,10):\n",
        "  print(i+(i-1))\n"
      ]
    },
    {
      "cell_type": "markdown",
      "metadata": {
        "id": "wXqPytg4NeLq"
      },
      "source": [
        "3.   Dada una cadena ingresada por consola, imprima los caracteres en posiciones pares. Por ejemplo para la cadena \"hola\" debería imprimir h l"
      ]
    },
    {
      "cell_type": "code",
      "execution_count": null,
      "metadata": {
        "colab": {
          "base_uri": "https://localhost:8080/"
        },
        "id": "mpeNgbisM5r8",
        "outputId": "0d0de821-47fe-4e04-e64f-8cea5447fe69"
      },
      "outputs": [
        {
          "name": "stdout",
          "output_type": "stream",
          "text": [
            "ingrese una cadena: hola\n",
            "hl\n",
            "h\n",
            "l\n"
          ]
        }
      ],
      "source": [
        "cadena = input(\"ingrese una cadena: \")\n",
        "print(cadena[::2])\n",
        "# o si se quiere hacer salto de linea hacer en for\n",
        "#for i in cadena[::2]:\n",
        "#  print(i)"
      ]
    },
    {
      "cell_type": "markdown",
      "metadata": {
        "id": "FJ7aY8r6OlRv"
      },
      "source": [
        "4.   Escriba una función que remueva los primeros n elementos de un string"
      ]
    },
    {
      "cell_type": "code",
      "execution_count": null,
      "metadata": {
        "colab": {
          "base_uri": "https://localhost:8080/"
        },
        "id": "zS0jvUX5N2D9",
        "outputId": "7e81b272-3871-437b-f7f7-709072584190"
      },
      "outputs": [
        {
          "name": "stdout",
          "output_type": "stream",
          "text": [
            "ingrese la cadena:hola\n",
            "ingrese el N:2\n",
            "la\n"
          ]
        }
      ],
      "source": [
        "def remover_n(cadena, n):\n",
        "  return cadena[n:]\n",
        "\n",
        "mi_cadena = input(\"ingrese la cadena:\")\n",
        "var_n = int(input(\"ingrese el N:\"))\n",
        "\n",
        "print(remover_n(mi_cadena, var_n))"
      ]
    },
    {
      "cell_type": "markdown",
      "metadata": {
        "id": "CYK-q1NKPunW"
      },
      "source": [
        "5.   Escriba una función que devuelva True si el ultimo numero es igual al primero, y falso si son diferentes."
      ]
    },
    {
      "cell_type": "code",
      "execution_count": null,
      "metadata": {
        "colab": {
          "base_uri": "https://localhost:8080/"
        },
        "id": "h4wGWGu9PA0w",
        "outputId": "55bcdef8-381c-4395-c82d-5986815e39e0"
      },
      "outputs": [
        {
          "name": "stdout",
          "output_type": "stream",
          "text": [
            "¿primero es igual que ultimo elemento?\n",
            "lista 1:  True\n",
            "lista 2:  False\n"
          ]
        }
      ],
      "source": [
        "def primero_igual_ultimo(lista):\n",
        "  return lista[0] == lista[-1]\n",
        "\n",
        "lista1 = [1,2,3,4,4,5,1]\n",
        "lista2 = [2,34,5,1,3,5]\n",
        "print(\"¿primero es igual que ultimo elemento?\")\n",
        "print(\"lista 1: \", primero_igual_ultimo(lista1))\n",
        "print(\"lista 2: \", primero_igual_ultimo(lista2))"
      ]
    },
    {
      "cell_type": "markdown",
      "metadata": {
        "id": "XVQZwTDSRAJP"
      },
      "source": [
        "6. Dada una lista imprima los elementos que sean divisibles por 5"
      ]
    },
    {
      "cell_type": "code",
      "execution_count": null,
      "metadata": {
        "colab": {
          "base_uri": "https://localhost:8080/"
        },
        "id": "scoEf97BQsR_",
        "outputId": "edad29f0-a7ec-4991-f544-3ad8d55fdf56"
      },
      "outputs": [
        {
          "name": "stdout",
          "output_type": "stream",
          "text": [
            "5\n",
            "10\n",
            "15\n"
          ]
        }
      ],
      "source": [
        "lista= [1,2,5,10,15,123]\n",
        "\n",
        "for i in lista:\n",
        "  if i % 5 ==0: print(i)\n"
      ]
    },
    {
      "cell_type": "markdown",
      "metadata": {
        "id": "Sh-l7QCrRp_H"
      },
      "source": [
        "7. Escriba un programa que cuente cuantas substrings existen dentro de un string. Ingrese ambas string por consola."
      ]
    },
    {
      "cell_type": "code",
      "execution_count": null,
      "metadata": {
        "colab": {
          "base_uri": "https://localhost:8080/"
        },
        "id": "Lg9KzsOsRbQZ",
        "outputId": "3e69951f-c691-4c47-e61e-4ea905513bc9"
      },
      "outputs": [
        {
          "name": "stdout",
          "output_type": "stream",
          "text": [
            "ingrese la cadena:hola a todos \n",
            "ingrese la subcadena:o\n",
            "3\n"
          ]
        }
      ],
      "source": [
        "cadena = input(\"ingrese la cadena:\")\n",
        "subcadena = input(\"ingrese la subcadena:\")\n",
        "print(cadena.count(subcadena))\n",
        "\n"
      ]
    },
    {
      "cell_type": "markdown",
      "metadata": {
        "id": "t-2k4ozfZLLU"
      },
      "source": [
        "8. Escriba un programa que determine si un numero es palimdromo/capicua. Ej: 12321 o 707."
      ]
    },
    {
      "cell_type": "code",
      "execution_count": null,
      "metadata": {
        "colab": {
          "base_uri": "https://localhost:8080/"
        },
        "id": "PQdHk57RW-nm",
        "outputId": "eb2bfe0c-2ac2-4031-f493-397edd85b361"
      },
      "outputs": [
        {
          "name": "stdout",
          "output_type": "stream",
          "text": [
            "ingrese el número: 123\n",
            "123 es palindromo?  no\n"
          ]
        }
      ],
      "source": [
        "num = input(\"ingrese el número: \")\n",
        "\n",
        "lista1 = [int(i) for i in str(num)]\n",
        "lista2 = lista1.copy()\n",
        "lista2.reverse()\n",
        "\n",
        "print(num,\"es palindromo? \",\"si\" if (lista1==lista2) else \"no\" )"
      ]
    },
    {
      "cell_type": "markdown",
      "metadata": {
        "id": "I_dstnDInMeX"
      },
      "source": [
        "9. dada dos listas de numeros, crear una tercera con los numeros pares de la primera y los impares de la tercera."
      ]
    },
    {
      "cell_type": "code",
      "execution_count": null,
      "metadata": {
        "colab": {
          "base_uri": "https://localhost:8080/"
        },
        "id": "ESfneGlJYr6r",
        "outputId": "36c09f13-069f-475d-d2a3-68cc2e473321"
      },
      "outputs": [
        {
          "name": "stdout",
          "output_type": "stream",
          "text": [
            "[2, 4, 6, 9, 11, 13]\n"
          ]
        }
      ],
      "source": [
        "l1 = [1,2,3,4,5,6,7]\n",
        "l2 = [9,10,11,12,13,14]\n",
        "l3= []\n",
        "for l in l1:\n",
        "  if l % 2 ==0: l3.append(l)\n",
        "for l in l2:\n",
        "  if l % 2 !=0: l3.append(l)\n",
        "print(l3)"
      ]
    },
    {
      "cell_type": "markdown",
      "metadata": {
        "id": "FJq1yXP6uiI9"
      },
      "source": [
        "10. Utilice la funcion filter() y una funcion lambda para lograr el mismo programa que en 9."
      ]
    },
    {
      "cell_type": "code",
      "execution_count": null,
      "metadata": {
        "colab": {
          "base_uri": "https://localhost:8080/"
        },
        "id": "6MHya_-Ku1MP",
        "outputId": "f5fbf0e0-dab7-4da5-82b9-aadaa5126e60"
      },
      "outputs": [
        {
          "name": "stdout",
          "output_type": "stream",
          "text": [
            "[2, 4, 6, 9, 11, 13]\n"
          ]
        }
      ],
      "source": [
        "l1 = [1,2,3,4,5,6,7]\n",
        "l2 = [9,10,11,12,13,14]\n",
        "l3= []\n",
        "l3.extend(list(filter(lambda x: x%2==0, l1)))\n",
        "l3.extend(list(filter(lambda x: x%2!=0, l2)))\n",
        "\n",
        "print(l3)\n"
      ]
    },
    {
      "cell_type": "markdown",
      "metadata": {
        "id": "HLu3zVSHoEHS"
      },
      "source": [
        "11. a partir de los siguientes dict, concatene en uno solo.\n",
        "{1:10, 2:20}\n",
        "{3:30, 4:40}\n",
        "{5:50, 6:60}"
      ]
    },
    {
      "cell_type": "code",
      "execution_count": null,
      "metadata": {
        "colab": {
          "base_uri": "https://localhost:8080/"
        },
        "id": "8Ka7Ya-3nvIf",
        "outputId": "d2fd550e-b1de-486f-9ab0-ca75b8b8ab7a"
      },
      "outputs": [
        {
          "name": "stdout",
          "output_type": "stream",
          "text": [
            "{1: 10, 2: 20, 3: 30, 4: 40, 5: 50, 6: 60}\n"
          ]
        }
      ],
      "source": [
        "d1= {1:10, 2:20}\n",
        "d2= {3:30, 4:40}\n",
        "d3= {5:50, 6:60}\n",
        "d4 = {}\n",
        "for d in (d1,d2,d3): d4.update(d)\n",
        "\n",
        "print(d4)"
      ]
    },
    {
      "cell_type": "markdown",
      "metadata": {
        "id": "HOv8EtCytF7D"
      },
      "source": [
        "12. Elimine los elementos vacios de un diccionario, por ejemplo dado {'a':1,'b':2,'c':None} conseguir {'a':1,'b':2}"
      ]
    },
    {
      "cell_type": "code",
      "execution_count": null,
      "metadata": {
        "colab": {
          "base_uri": "https://localhost:8080/"
        },
        "id": "lz9g0pmRsYWg",
        "outputId": "991f8539-0351-4f0f-bf41-2081b96afdeb"
      },
      "outputs": [
        {
          "name": "stdout",
          "output_type": "stream",
          "text": [
            "{'a': 1, 'b': 2, 'c': None}\n",
            "{'a': 1, 'b': 2}\n"
          ]
        }
      ],
      "source": [
        "d1 = {'a': 1, 'b': 2, 'c':None}\n",
        "print(d1)\n",
        "d2 = {key:value for (key, value) in d1.items() if value is not None}\n",
        "print(d2)"
      ]
    }
  ],
  "metadata": {
    "colab": {
      "provenance": []
    },
    "kernelspec": {
      "display_name": "Python 3",
      "name": "python3"
    },
    "language_info": {
      "name": "python"
    }
  },
  "nbformat": 4,
  "nbformat_minor": 0
}
